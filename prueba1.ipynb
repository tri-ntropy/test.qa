{
 "cells": [
  {
   "cell_type": "markdown",
   "id": "99df5dd6",
   "metadata": {},
   "source": [
    "## Importación de bibliotecas"
   ]
  },
  {
   "cell_type": "code",
   "execution_count": 1,
   "id": "ced5a8b6",
   "metadata": {},
   "outputs": [],
   "source": [
    "from selenium import webdriver\n",
    "from selenium.webdriver.chrome.service import Service\n",
    "from selenium.webdriver.common.by import By\n",
    "from selenium.webdriver.common.keys import Keys\n",
    "import time"
   ]
  },
  {
   "cell_type": "code",
   "execution_count": 2,
   "id": "bb2f5182",
   "metadata": {},
   "outputs": [],
   "source": [
    "def test_clic_signin(driver, website):\n",
    "    try:\n",
    "        driver.get(website)\n",
    "\n",
    "        element_signin = driver.find_element(By.CLASS_NAME, \"user-info\")\n",
    "        element_signin.click()\n",
    "\n",
    "        print(\"Exito\")\n",
    "        driver.quit()\n",
    "    except:\n",
    "        print(\"Error\")"
   ]
  },
  {
   "cell_type": "code",
   "execution_count": null,
   "id": "00e01ad0",
   "metadata": {},
   "outputs": [],
   "source": [
    "def test_create_account(driver, website, \n",
    "                        firstname = \"John\", lastname = \"Doe\",\n",
    "                        email = \"dxx33730@jioso.com\", password = \"asdfqwer1234\"):\n",
    "    try:\n",
    "        driver.get(website)\n",
    "\n",
    "        element_signin = driver.find_element(By.CLASS_NAME, \"user-info\")\n",
    "        element_signin.click()\n",
    "\n",
    "        element_noaccount = driver.find_element(By.CLASS_NAME, \"no-account\")\n",
    "        element_noaccount.click()\n",
    "\n",
    "        element_gender = driver.find_element(By.CLASS_NAME, \"custom-radio\")\n",
    "        element_gender.click()\n",
    "\n",
    "        element_firstname = driver.find_element(By.NAME, \"firstname\")\n",
    "        element_firstname.send_keys(firstname + Keys.ENTER)\n",
    "\n",
    "        element_lastname = driver.find_element(By.NAME, \"lastname\")\n",
    "        element_lastname.send_keys(lastname + Keys.ENTER)\n",
    "\n",
    "        element_email = driver.find_element(By.NAME, \"email\")\n",
    "        element_email.send_keys(email + Keys.ENTER)\n",
    "\n",
    "        element_password = driver.find_element(By.NAME, \"password\")\n",
    "        element_password.send_keys(password + Keys.ENTER)\n",
    "\n",
    "        element_optin = driver.find_element(By.NAME, \"optin\")\n",
    "        element_optin.click()\n",
    "\n",
    "        element_newsletter = driver.find_element(By.NAME, \"newsletter\") \n",
    "        element_newsletter.click()\n",
    "\n",
    "        element_agreement = driver.find_element(By.NAME, \"psgdpr\")\n",
    "        element_agreement.click()\n",
    "\n",
    "        element_save = driver.find_element(\n",
    "                        By.CLASS_NAME,\n",
    "                        \"btn.btn-primary.form-control-submit.float-xs-right\")\n",
    "        element_save.click()\n",
    "\n",
    "        time.sleep(5)\n",
    "        print(\"Exito\")\n",
    "        driver.quit()\n",
    "    except:\n",
    "        print(\"Error\")"
   ]
  },
  {
   "cell_type": "code",
   "execution_count": null,
   "id": "9db1788a",
   "metadata": {},
   "outputs": [],
   "source": [
    "def test_input_email_password(driver, website, email = \"dxx33730@jioso.com\", password = \"asdfqwer1234\"):\n",
    "    try:\n",
    "        driver.get(website)\n",
    "        element_signin = driver.find_element(By.CLASS_NAME, \"user-info\")\n",
    "        element_signin.click()\n",
    "\n",
    "        element_email = driver.find_element(By.CLASS_NAME, \"form-control\")\n",
    "\n",
    "        element_email.send_keys(email + Keys.ENTER)\n",
    "\n",
    "        element_password = driver.find_element(By.CLASS_NAME, \"form-control.js-child-focus.js-visible-password\")\n",
    "        element_password.click()\n",
    "        element_password.send_keys(password + Keys.ENTER)\n",
    "        \n",
    "        time.sleep(5)\n",
    "        print(\"Exito\")\n",
    "        driver.quit()\n",
    "    except:\n",
    "        print(\"Error\")"
   ]
  },
  {
   "cell_type": "markdown",
   "id": "c7d23b21",
   "metadata": {},
   "source": [
    "## Dirección de la página web"
   ]
  },
  {
   "cell_type": "code",
   "execution_count": 5,
   "id": "b01e2220",
   "metadata": {},
   "outputs": [],
   "source": [
    "website = \"http://www.testingyes.com/onlineshop/\""
   ]
  },
  {
   "cell_type": "markdown",
   "id": "5eccd38b",
   "metadata": {},
   "source": [
    "## Inicialización del driver"
   ]
  },
  {
   "cell_type": "code",
   "execution_count": 6,
   "id": "b0a6083a",
   "metadata": {},
   "outputs": [],
   "source": [
    "log_path = \"logs/account_creation.log\"\n",
    "service = Service(executable_path = \"resources/chromedriver.exe\")\n",
    "driver = webdriver.Chrome(service = service)"
   ]
  },
  {
   "cell_type": "markdown",
   "id": "5c76d61c",
   "metadata": {},
   "source": [
    "## Prueba"
   ]
  },
  {
   "cell_type": "code",
   "execution_count": 7,
   "id": "cb644170",
   "metadata": {},
   "outputs": [],
   "source": [
    "# firstname = \"John\"\n",
    "# lastname = \"Doe\"\n",
    "# email = \"dxx33730x@jioso.com\"\n",
    "# password = \"asdfqwer1234\"\n",
    "\n",
    "firstname = \"12345xpo\"\n",
    "lastname = \"?????\"\n",
    "email = \"qwertypxyz@jioso.com\"\n",
    "password = \"-[asdfqwer}_1234???`==\""
   ]
  },
  {
   "cell_type": "code",
   "execution_count": 8,
   "id": "a5d8bbd3",
   "metadata": {},
   "outputs": [
    {
     "name": "stdout",
     "output_type": "stream",
     "text": [
      "Exito\n"
     ]
    }
   ],
   "source": [
    "test_create_account(driver, website, \n",
    "                    firstname = firstname, lastname = lastname,\n",
    "                    email = email, password = password)"
   ]
  },
  {
   "cell_type": "code",
   "execution_count": 9,
   "id": "fb6a9bc9",
   "metadata": {},
   "outputs": [
    {
     "name": "stdout",
     "output_type": "stream",
     "text": [
      "Error\n"
     ]
    }
   ],
   "source": [
    "test_input_email_password(driver, website)"
   ]
  },
  {
   "cell_type": "code",
   "execution_count": null,
   "id": "0fd852c2",
   "metadata": {},
   "outputs": [],
   "source": []
  }
 ],
 "metadata": {
  "kernelspec": {
   "display_name": "env",
   "language": "python",
   "name": "python3"
  },
  "language_info": {
   "codemirror_mode": {
    "name": "ipython",
    "version": 3
   },
   "file_extension": ".py",
   "mimetype": "text/x-python",
   "name": "python",
   "nbconvert_exporter": "python",
   "pygments_lexer": "ipython3",
   "version": "3.13.5"
  }
 },
 "nbformat": 4,
 "nbformat_minor": 5
}
